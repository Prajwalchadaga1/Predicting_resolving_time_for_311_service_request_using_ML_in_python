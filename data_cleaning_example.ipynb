{
 "cells": [
  {
   "cell_type": "code",
   "execution_count": 91,
   "metadata": {},
   "outputs": [],
   "source": [
    "import pandas as pd\n",
    "from datetime import datetime\n",
    "import datetime as dt\n",
    "import numpy as np\n",
    "import matplotlib.pyplot as plt\n",
    "import matplotlib\n",
    "\n"
   ]
  },
  {
   "cell_type": "code",
   "execution_count": 4,
   "metadata": {},
   "outputs": [],
   "source": [
    "# Functions for conversion of the date string to a datetime object. \n",
    "# This will be applied to a series in the pandas dataframe \n",
    "def conv_date(strobj):\n",
    "    try:\n",
    "        # The strptime function will take two arguments. The first argument\n",
    "        # will be the string object passed from the series (as this function is used via \"apply\" method).\n",
    "        # The second object is the formatting statement. See here for more details:\n",
    "        # https://www.programiz.com/python-programming/datetime/strptime        \n",
    "        return datetime.strptime(strobj,'%m/%d/%Y %I:%M:%S %p')\n",
    "    except:\n",
    "        return np.nan"
   ]
  },
  {
   "cell_type": "code",
   "execution_count": 5,
   "metadata": {},
   "outputs": [
    {
     "data": {
      "text/plain": [
       "0    01/01/2015 12:00:50 AM\n",
       "1    01/01/2015 12:01:29 AM\n",
       "2    01/01/2015 12:01:30 AM\n",
       "3    01/01/2015 12:04:28 AM\n",
       "4    01/01/2015 12:04:44 AM\n",
       "Name: Created Date, dtype: object"
      ]
     },
     "execution_count": 5,
     "metadata": {},
     "output_type": "execute_result"
    }
   ],
   "source": [
    "df_311 = pd.read_csv(\"311_Service_Requests_from_2015_to_Present_head_1000.csv\")\n",
    "df_311['Created Date'].head()"
   ]
  },
  {
   "cell_type": "code",
   "execution_count": 6,
   "metadata": {},
   "outputs": [
    {
     "data": {
      "text/plain": [
       "0   2015-01-01 00:00:50\n",
       "1   2015-01-01 00:01:29\n",
       "2   2015-01-01 00:01:30\n",
       "3   2015-01-01 00:04:28\n",
       "4   2015-01-01 00:04:44\n",
       "Name: Created Date, dtype: datetime64[ns]"
      ]
     },
     "execution_count": 6,
     "metadata": {},
     "output_type": "execute_result"
    }
   ],
   "source": [
    "df_311['Created Date'] = df_311['Created Date'].apply(conv_date)\n",
    "df_311['Closed Date']  = df_311['Closed Date'].apply(conv_date)\n",
    "df_311['Created Date'].head()"
   ]
  },
  {
   "cell_type": "code",
   "execution_count": 7,
   "metadata": {},
   "outputs": [
    {
     "data": {
      "text/plain": [
       "Unique Key                        999\n",
       "Created Date                      999\n",
       "Closed Date                       992\n",
       "Agency                            999\n",
       "Agency Name                       999\n",
       "Complaint Type                    999\n",
       "Descriptor                        997\n",
       "Location Type                     899\n",
       "Incident Zip                      983\n",
       "Incident Address                  911\n",
       "Street Name                       911\n",
       "Cross Street 1                    906\n",
       "Cross Street 2                    905\n",
       "Intersection Street 1              85\n",
       "Intersection Street 2              85\n",
       "Address Type                      990\n",
       "City                              983\n",
       "Landmark                            0\n",
       "Facility Type                     876\n",
       "Status                            999\n",
       "Due Date                          925\n",
       "Resolution Description            999\n",
       "Resolution Action Updated Date    992\n",
       "Community Board                   999\n",
       "BBL                               864\n",
       "Borough                           999\n",
       "X Coordinate (State Plane)        980\n",
       "Y Coordinate (State Plane)        980\n",
       "Open Data Channel Type            999\n",
       "Park Facility Name                999\n",
       "Park Borough                      999\n",
       "Vehicle Type                        0\n",
       "Taxi Company Borough                0\n",
       "Taxi Pick Up Location              30\n",
       "Bridge Highway Name                 0\n",
       "Bridge Highway Direction            0\n",
       "Road Ramp                           0\n",
       "Bridge Highway Segment              0\n",
       "Latitude                          980\n",
       "Longitude                         980\n",
       "Location                          980\n",
       "dtype: int64"
      ]
     },
     "execution_count": 7,
     "metadata": {},
     "output_type": "execute_result"
    }
   ],
   "source": [
    "df_311.count()"
   ]
  },
  {
   "cell_type": "code",
   "execution_count": 8,
   "metadata": {},
   "outputs": [
    {
     "data": {
      "text/plain": [
       "<BarContainer object of 41 artists>"
      ]
     },
     "execution_count": 8,
     "metadata": {},
     "output_type": "execute_result"
    },
    {
     "data": {
      "image/png": "[encoded data removed]",
      "text/plain": [
       "<Figure size 432x288 with 1 Axes>"
      ]
     },
     "metadata": {
      "needs_background": "light"
     },
     "output_type": "display_data"
    }
   ],
   "source": [
    "xcoord = range(0,len(df_311.count().values))\n",
    "yheight = df_311.count().values\n",
    "plt.bar(x=xcoord,height=yheight)"
   ]
  },
  {
   "cell_type": "code",
   "execution_count": null,
   "metadata": {},
   "outputs": [],
   "source": []
  },
  {
   "cell_type": "code",
   "execution_count": 11,
   "metadata": {},
   "outputs": [
    {
     "name": "stdout",
     "output_type": "stream",
     "text": [
      "Intersection Street 1 85\n",
      "Intersection Street 2 85\n",
      "Landmark 0\n",
      "Vehicle Type 0\n",
      "Taxi Company Borough 0\n",
      "Taxi Pick Up Location 30\n",
      "Bridge Highway Name 0\n",
      "Bridge Highway Direction 0\n",
      "Road Ramp 0\n",
      "Bridge Highway Segment 0\n"
     ]
    }
   ],
   "source": [
    "list_to_drop = []\n",
    "for ind,val in zip(list(df_311.count().index),df_311.count().values):\n",
    "    if val<600:\n",
    "        print(ind,val)\n",
    "        list_to_drop.append(ind)"
   ]
  },
  {
   "cell_type": "code",
   "execution_count": null,
   "metadata": {},
   "outputs": [],
   "source": []
  },
  {
   "cell_type": "code",
   "execution_count": 12,
   "metadata": {},
   "outputs": [
    {
     "data": {
      "text/plain": [
       "Unique Key                        999\n",
       "Created Date                      999\n",
       "Closed Date                       992\n",
       "Agency                            999\n",
       "Agency Name                       999\n",
       "Complaint Type                    999\n",
       "Descriptor                        997\n",
       "Location Type                     899\n",
       "Incident Zip                      983\n",
       "Incident Address                  911\n",
       "Street Name                       911\n",
       "Cross Street 1                    906\n",
       "Cross Street 2                    905\n",
       "Address Type                      990\n",
       "City                              983\n",
       "Facility Type                     876\n",
       "Status                            999\n",
       "Due Date                          925\n",
       "Resolution Description            999\n",
       "Resolution Action Updated Date    992\n",
       "Community Board                   999\n",
       "BBL                               864\n",
       "Borough                           999\n",
       "X Coordinate (State Plane)        980\n",
       "Y Coordinate (State Plane)        980\n",
       "Open Data Channel Type            999\n",
       "Park Facility Name                999\n",
       "Park Borough                      999\n",
       "Latitude                          980\n",
       "Longitude                         980\n",
       "Location                          980\n",
       "dtype: int64"
      ]
     },
     "execution_count": 12,
     "metadata": {},
     "output_type": "execute_result"
    }
   ],
   "source": [
    "df_311 = pd.read_csv(\"311_Service_Requests_from_2015_to_Present_head_1000.csv\")\n",
    "df_311['Created Date'] = df_311['Created Date'].apply(conv_date)\n",
    "df_311['Closed Date']  = df_311['Closed Date'].apply(conv_date)\n",
    "\n",
    "df_311.drop(columns=list_to_drop, inplace=True)\n",
    "\n",
    "#df_311.drop(columns=['Landmark','Intersection Street 1','Intersection Street 2',\n",
    "#                     'Bridge Highway Segment','Road Ramp','Bridge Highway Direction',\n",
    "#                    'Vehicle Type','Taxi Company Borough','Taxi Pick Up Location','Bridge Highway Name',\n",
    "#                     'Latitude','Longitude','Location','BBL','Resolution Description','Facility Type','Due Date',\n",
    "#                    'Descriptor','Resolution Action Updated Date','Cross Street 1','Cross Street 2','Address Type','Unique Key'], inplace=True)\n",
    "\n",
    "df_311.count()\n"
   ]
  },
  {
   "cell_type": "code",
   "execution_count": 14,
   "metadata": {},
   "outputs": [],
   "source": [
    "# Checking uniqueness of each column\n",
    "list_of_columns=list(df_311.count().index)"
   ]
  },
  {
   "cell_type": "code",
   "execution_count": 17,
   "metadata": {},
   "outputs": [
    {
     "name": "stdout",
     "output_type": "stream",
     "text": [
      "Unique Key                999\n",
      "Created Date                963\n",
      "Closed Date                880\n",
      "Agency                13\n",
      "Agency Name                16\n",
      "Complaint Type                40\n",
      "Descriptor                67\n",
      "Location Type                15\n",
      "Incident Zip                152\n",
      "Incident Address                685\n",
      "Street Name                526\n",
      "Cross Street 1                481\n",
      "Cross Street 2                480\n",
      "Address Type                5\n",
      "City                44\n",
      "Facility Type                3\n",
      "Status                4\n",
      "Due Date                910\n",
      "Resolution Description                55\n",
      "Resolution Action Updated Date                878\n",
      "Community Board                64\n",
      "BBL                631\n",
      "Borough                6\n",
      "X Coordinate (State Plane)                738\n",
      "Y Coordinate (State Plane)                745\n",
      "Open Data Channel Type                5\n",
      "Park Facility Name                3\n",
      "Park Borough                6\n",
      "Latitude                746\n",
      "Longitude                746\n",
      "Location                746\n"
     ]
    }
   ],
   "source": [
    "for col in list_of_columns:\n",
    "    print(col,'              ',len(df_311[col].unique()))"
   ]
  },
  {
   "cell_type": "code",
   "execution_count": 125,
   "metadata": {},
   "outputs": [],
   "source": [
    "df_311 = pd.read_csv(\"311_Service_Requests_from_2015_to_Present_head_1000.csv\")\n",
    "df_311['Created Date'] = df_311['Created Date'].apply(conv_date)\n",
    "df_311['Closed Date']  = df_311['Closed Date'].apply(conv_date)\n",
    "\n",
    "df_311.drop(columns=['Landmark','Intersection Street 1','Intersection Street 2',\n",
    "                     'Bridge Highway Segment','Road Ramp','Bridge Highway Direction',\n",
    "                    'Vehicle Type','Taxi Company Borough','Taxi Pick Up Location','Bridge Highway Name',\n",
    "                     'Latitude','Longitude','Location','BBL','Resolution Description','Facility Type','Due Date',\n",
    "                    'Descriptor','Resolution Action Updated Date','Cross Street 1','Cross Street 2','Address Type','Unique Key'], inplace=True)\n"
   ]
  },
  {
   "cell_type": "code",
   "execution_count": 126,
   "metadata": {},
   "outputs": [
    {
     "data": {
      "text/plain": [
       "Created Date                  844\n",
       "Closed Date                   844\n",
       "Agency                        844\n",
       "Agency Name                   844\n",
       "Complaint Type                844\n",
       "Location Type                 844\n",
       "Incident Zip                  844\n",
       "Incident Address              844\n",
       "Street Name                   844\n",
       "City                          844\n",
       "Status                        844\n",
       "Community Board               844\n",
       "Borough                       844\n",
       "X Coordinate (State Plane)    844\n",
       "Y Coordinate (State Plane)    844\n",
       "Open Data Channel Type        844\n",
       "Park Facility Name            844\n",
       "Park Borough                  844\n",
       "dtype: int64"
      ]
     },
     "execution_count": 126,
     "metadata": {},
     "output_type": "execute_result"
    }
   ],
   "source": [
    "df_311_cleaned = df_311.dropna()\n",
    "df_311_cleaned.count()"
   ]
  },
  {
   "cell_type": "code",
   "execution_count": 127,
   "metadata": {},
   "outputs": [
    {
     "name": "stderr",
     "output_type": "stream",
     "text": [
      "/Users/pgarias/python_virtual_envs/python3_emr/lib/python3.6/site-packages/ipykernel_launcher.py:1: SettingWithCopyWarning: \n",
      "A value is trying to be set on a copy of a slice from a DataFrame.\n",
      "Try using .loc[row_indexer,col_indexer] = value instead\n",
      "\n",
      "See the caveats in the documentation: http://pandas.pydata.org/pandas-docs/stable/indexing.html#indexing-view-versus-copy\n",
      "  \"\"\"Entry point for launching an IPython kernel.\n"
     ]
    }
   ],
   "source": [
    "df_311_cleaned['Time to Closed'] = df_311_cleaned['Closed Date'] - df_311_cleaned['Created Date']"
   ]
  },
  {
   "cell_type": "code",
   "execution_count": null,
   "metadata": {},
   "outputs": [],
   "source": []
  },
  {
   "cell_type": "code",
   "execution_count": 128,
   "metadata": {},
   "outputs": [
    {
     "data": {
      "text/html": [
       "<div>\n",
       "<style scoped>\n",
       "    .dataframe tbody tr th:only-of-type {\n",
       "        vertical-align: middle;\n",
       "    }\n",
       "\n",
       "    .dataframe tbody tr th {\n",
       "        vertical-align: top;\n",
       "    }\n",
       "\n",
       "    .dataframe thead th {\n",
       "        text-align: right;\n",
       "    }\n",
       "</style>\n",
       "<table border=\"1\" class=\"dataframe\">\n",
       "  <thead>\n",
       "    <tr style=\"text-align: right;\">\n",
       "      <th></th>\n",
       "      <th>Created Date</th>\n",
       "      <th>Closed Date</th>\n",
       "      <th>Agency</th>\n",
       "      <th>Agency Name</th>\n",
       "      <th>Complaint Type</th>\n",
       "      <th>Location Type</th>\n",
       "      <th>Incident Zip</th>\n",
       "      <th>Incident Address</th>\n",
       "      <th>Street Name</th>\n",
       "      <th>City</th>\n",
       "      <th>Status</th>\n",
       "      <th>Community Board</th>\n",
       "      <th>Borough</th>\n",
       "      <th>X Coordinate (State Plane)</th>\n",
       "      <th>Y Coordinate (State Plane)</th>\n",
       "      <th>Open Data Channel Type</th>\n",
       "      <th>Park Facility Name</th>\n",
       "      <th>Park Borough</th>\n",
       "      <th>Time to Closed</th>\n",
       "    </tr>\n",
       "  </thead>\n",
       "  <tbody>\n",
       "    <tr>\n",
       "      <th>0</th>\n",
       "      <td>2015-01-01 00:00:50</td>\n",
       "      <td>2015-01-01 02:47:50</td>\n",
       "      <td>NYPD</td>\n",
       "      <td>New York City Police Department</td>\n",
       "      <td>Blocked Driveway</td>\n",
       "      <td>Street/Sidewalk</td>\n",
       "      <td>11420.0</td>\n",
       "      <td>123-19 135 STREET</td>\n",
       "      <td>135 STREET</td>\n",
       "      <td>SOUTH OZONE PARK</td>\n",
       "      <td>Closed</td>\n",
       "      <td>10 QUEENS</td>\n",
       "      <td>QUEENS</td>\n",
       "      <td>1038733.0</td>\n",
       "      <td>184971.0</td>\n",
       "      <td>PHONE</td>\n",
       "      <td>Unspecified</td>\n",
       "      <td>QUEENS</td>\n",
       "      <td>02:47:00</td>\n",
       "    </tr>\n",
       "    <tr>\n",
       "      <th>1</th>\n",
       "      <td>2015-01-01 00:01:29</td>\n",
       "      <td>2015-01-01 02:42:22</td>\n",
       "      <td>NYPD</td>\n",
       "      <td>New York City Police Department</td>\n",
       "      <td>Blocked Driveway</td>\n",
       "      <td>Street/Sidewalk</td>\n",
       "      <td>10466.0</td>\n",
       "      <td>931 EAST 226 STREET</td>\n",
       "      <td>EAST 226 STREET</td>\n",
       "      <td>BRONX</td>\n",
       "      <td>Closed</td>\n",
       "      <td>12 BRONX</td>\n",
       "      <td>BRONX</td>\n",
       "      <td>1024816.0</td>\n",
       "      <td>262237.0</td>\n",
       "      <td>PHONE</td>\n",
       "      <td>Unspecified</td>\n",
       "      <td>BRONX</td>\n",
       "      <td>02:40:53</td>\n",
       "    </tr>\n",
       "    <tr>\n",
       "      <th>3</th>\n",
       "      <td>2015-01-01 00:04:28</td>\n",
       "      <td>2015-01-01 02:25:02</td>\n",
       "      <td>NYPD</td>\n",
       "      <td>New York City Police Department</td>\n",
       "      <td>Noise - Vehicle</td>\n",
       "      <td>Street/Sidewalk</td>\n",
       "      <td>10468.0</td>\n",
       "      <td>2555 SEDGWICK AVENUE</td>\n",
       "      <td>SEDGWICK AVENUE</td>\n",
       "      <td>BRONX</td>\n",
       "      <td>Closed</td>\n",
       "      <td>07 BRONX</td>\n",
       "      <td>BRONX</td>\n",
       "      <td>1009923.0</td>\n",
       "      <td>255465.0</td>\n",
       "      <td>ONLINE</td>\n",
       "      <td>Unspecified</td>\n",
       "      <td>BRONX</td>\n",
       "      <td>02:20:34</td>\n",
       "    </tr>\n",
       "    <tr>\n",
       "      <th>4</th>\n",
       "      <td>2015-01-01 00:04:44</td>\n",
       "      <td>2015-01-01 10:22:31</td>\n",
       "      <td>NYPD</td>\n",
       "      <td>New York City Police Department</td>\n",
       "      <td>Illegal Parking</td>\n",
       "      <td>Street/Sidewalk</td>\n",
       "      <td>11421.0</td>\n",
       "      <td>84-25 85 ROAD</td>\n",
       "      <td>85 ROAD</td>\n",
       "      <td>WOODHAVEN</td>\n",
       "      <td>Closed</td>\n",
       "      <td>09 QUEENS</td>\n",
       "      <td>QUEENS</td>\n",
       "      <td>1022809.0</td>\n",
       "      <td>192567.0</td>\n",
       "      <td>PHONE</td>\n",
       "      <td>Unspecified</td>\n",
       "      <td>QUEENS</td>\n",
       "      <td>10:17:47</td>\n",
       "    </tr>\n",
       "    <tr>\n",
       "      <th>5</th>\n",
       "      <td>2015-01-01 00:04:51</td>\n",
       "      <td>2015-01-01 01:03:07</td>\n",
       "      <td>NYPD</td>\n",
       "      <td>New York City Police Department</td>\n",
       "      <td>Noise - Residential</td>\n",
       "      <td>Residential Building/House</td>\n",
       "      <td>11375.0</td>\n",
       "      <td>89-04 70 ROAD</td>\n",
       "      <td>70 ROAD</td>\n",
       "      <td>FOREST HILLS</td>\n",
       "      <td>Closed</td>\n",
       "      <td>06 QUEENS</td>\n",
       "      <td>QUEENS</td>\n",
       "      <td>1024948.0</td>\n",
       "      <td>197703.0</td>\n",
       "      <td>PHONE</td>\n",
       "      <td>Unspecified</td>\n",
       "      <td>QUEENS</td>\n",
       "      <td>00:58:16</td>\n",
       "    </tr>\n",
       "  </tbody>\n",
       "</table>\n",
       "</div>"
      ],
      "text/plain": [
       "         Created Date         Closed Date Agency  \\\n",
       "0 2015-01-01 00:00:50 2015-01-01 02:47:50   NYPD   \n",
       "1 2015-01-01 00:01:29 2015-01-01 02:42:22   NYPD   \n",
       "3 2015-01-01 00:04:28 2015-01-01 02:25:02   NYPD   \n",
       "4 2015-01-01 00:04:44 2015-01-01 10:22:31   NYPD   \n",
       "5 2015-01-01 00:04:51 2015-01-01 01:03:07   NYPD   \n",
       "\n",
       "                       Agency Name       Complaint Type  \\\n",
       "0  New York City Police Department     Blocked Driveway   \n",
       "1  New York City Police Department     Blocked Driveway   \n",
       "3  New York City Police Department      Noise - Vehicle   \n",
       "4  New York City Police Department      Illegal Parking   \n",
       "5  New York City Police Department  Noise - Residential   \n",
       "\n",
       "                Location Type  Incident Zip      Incident Address  \\\n",
       "0             Street/Sidewalk       11420.0     123-19 135 STREET   \n",
       "1             Street/Sidewalk       10466.0   931 EAST 226 STREET   \n",
       "3             Street/Sidewalk       10468.0  2555 SEDGWICK AVENUE   \n",
       "4             Street/Sidewalk       11421.0         84-25 85 ROAD   \n",
       "5  Residential Building/House       11375.0         89-04 70 ROAD   \n",
       "\n",
       "       Street Name              City  Status Community Board Borough  \\\n",
       "0       135 STREET  SOUTH OZONE PARK  Closed       10 QUEENS  QUEENS   \n",
       "1  EAST 226 STREET             BRONX  Closed        12 BRONX   BRONX   \n",
       "3  SEDGWICK AVENUE             BRONX  Closed        07 BRONX   BRONX   \n",
       "4          85 ROAD         WOODHAVEN  Closed       09 QUEENS  QUEENS   \n",
       "5          70 ROAD      FOREST HILLS  Closed       06 QUEENS  QUEENS   \n",
       "\n",
       "   X Coordinate (State Plane)  Y Coordinate (State Plane)  \\\n",
       "0                   1038733.0                    184971.0   \n",
       "1                   1024816.0                    262237.0   \n",
       "3                   1009923.0                    255465.0   \n",
       "4                   1022809.0                    192567.0   \n",
       "5                   1024948.0                    197703.0   \n",
       "\n",
       "  Open Data Channel Type Park Facility Name Park Borough Time to Closed  \n",
       "0                  PHONE        Unspecified       QUEENS       02:47:00  \n",
       "1                  PHONE        Unspecified        BRONX       02:40:53  \n",
       "3                 ONLINE        Unspecified        BRONX       02:20:34  \n",
       "4                  PHONE        Unspecified       QUEENS       10:17:47  \n",
       "5                  PHONE        Unspecified       QUEENS       00:58:16  "
      ]
     },
     "execution_count": 128,
     "metadata": {},
     "output_type": "execute_result"
    }
   ],
   "source": [
    "df_311_cleaned[df_311_cleaned['Time to Closed']>dt.timedelta(minutes=30)].head()\n"
   ]
  },
  {
   "cell_type": "code",
   "execution_count": 129,
   "metadata": {},
   "outputs": [],
   "source": [
    "drop_index = df_311_cleaned[((df_311_cleaned['Complaint Type']=='Noise - Street/Sidewalk') | \n",
    "               (df_311_cleaned['Complaint Type']=='Noise - Vehicle') | \n",
    "               (df_311_cleaned['Complaint Type']=='Noise - Residential') | \n",
    "               (df_311_cleaned['Complaint Type']=='Noise - Commercial') | \n",
    "               (df_311_cleaned['Complaint Type']=='Noise - Helicopter') |\n",
    "               (df_311_cleaned['Complaint Type']=='Noise')) & (df_311_cleaned['Time to Closed']>dt.timedelta(minutes=931.55)) ].index"
   ]
  },
  {
   "cell_type": "code",
   "execution_count": 130,
   "metadata": {},
   "outputs": [],
   "source": [
    "df_311_cleaned = df_311_cleaned.drop(index=drop_index)"
   ]
  },
  {
   "cell_type": "code",
   "execution_count": 131,
   "metadata": {},
   "outputs": [
    {
     "data": {
      "text/plain": [
       "838"
      ]
     },
     "execution_count": 131,
     "metadata": {},
     "output_type": "execute_result"
    }
   ],
   "source": []
  },
  {
   "cell_type": "code",
   "execution_count": 108,
   "metadata": {},
   "outputs": [
    {
     "name": "stdout",
     "output_type": "stream",
     "text": [
      "Noise - Street/Sidewalk\n",
      "Noise - Vehicle\n",
      "Noise - Residential\n",
      "Noise - Commercial\n",
      "Noise - Helicopter\n",
      "Noise\n"
     ]
    }
   ],
   "source": [
    "for item in df_311['Complaint Type'].unique():\n",
    "    if 'Noise' in item:\n",
    "        print(item)"
   ]
  },
  {
   "cell_type": "code",
   "execution_count": 48,
   "metadata": {},
   "outputs": [
    {
     "data": {
      "text/plain": [
       "934"
      ]
     },
     "execution_count": 48,
     "metadata": {},
     "output_type": "execute_result"
    }
   ],
   "source": [
    "#df_311_cleaned['Time to Closed'].idxmax()"
   ]
  },
  {
   "cell_type": "code",
   "execution_count": 49,
   "metadata": {},
   "outputs": [
    {
     "data": {
      "text/plain": [
       "Timedelta('61 days 00:04:09')"
      ]
     },
     "execution_count": 49,
     "metadata": {},
     "output_type": "execute_result"
    }
   ],
   "source": [
    "#df_311_cleaned['Time to Closed'].max()"
   ]
  },
  {
   "cell_type": "code",
   "execution_count": 88,
   "metadata": {},
   "outputs": [],
   "source": [
    "import datetime as dt"
   ]
  },
  {
   "cell_type": "code",
   "execution_count": 89,
   "metadata": {},
   "outputs": [
    {
     "data": {
      "text/plain": [
       "datetime.timedelta(0, 1800)"
      ]
     },
     "execution_count": 89,
     "metadata": {},
     "output_type": "execute_result"
    }
   ],
   "source": [
    "dt.timedelta(minutes=30)"
   ]
  },
  {
   "cell_type": "code",
   "execution_count": 50,
   "metadata": {},
   "outputs": [
    {
     "data": {
      "text/plain": [
       "809"
      ]
     },
     "execution_count": 50,
     "metadata": {},
     "output_type": "execute_result"
    }
   ],
   "source": [
    "df_311_cleaned.reset_index(drop=True)['Time to Closed'].idxmax()"
   ]
  },
  {
   "cell_type": "code",
   "execution_count": 68,
   "metadata": {},
   "outputs": [
    {
     "data": {
      "text/plain": [
       "array(['Blocked Driveway', 'Noise - Street/Sidewalk', 'Noise - Vehicle',\n",
       "       'Illegal Parking', 'Noise - Residential', 'Derelict Vehicles',\n",
       "       'Noise - Commercial', 'Noise - Helicopter', 'Taxi Complaint',\n",
       "       'Street Condition', 'Food Poisoning', 'Derelict Vehicle',\n",
       "       'Food Establishment', 'Animal Abuse', 'Drinking',\n",
       "       'Dirty Conditions'], dtype=object)"
      ]
     },
     "execution_count": 68,
     "metadata": {},
     "output_type": "execute_result"
    }
   ],
   "source": [
    "df_311_cleaned['Complaint Type'].unique()"
   ]
  },
  {
   "cell_type": "code",
   "execution_count": null,
   "metadata": {},
   "outputs": [],
   "source": []
  },
  {
   "cell_type": "code",
   "execution_count": null,
   "metadata": {},
   "outputs": [],
   "source": []
  },
  {
   "cell_type": "code",
   "execution_count": null,
   "metadata": {},
   "outputs": [],
   "source": []
  },
  {
   "cell_type": "code",
   "execution_count": null,
   "metadata": {},
   "outputs": [],
   "source": []
  },
  {
   "cell_type": "code",
   "execution_count": null,
   "metadata": {},
   "outputs": [],
   "source": []
  }
 ],
 "metadata": {
  "kernelspec": {
   "display_name": "Python 3",
   "language": "python",
   "name": "python3"
  },
  "language_info": {
   "codemirror_mode": {
    "name": "ipython",
    "version": 3
   },
   "file_extension": ".py",
   "mimetype": "text/x-python",
   "name": "python",
   "nbconvert_exporter": "python",
   "pygments_lexer": "ipython3",
   "version": "3.6.3"
  }
 },
 "nbformat": 4,
 "nbformat_minor": 4
}
