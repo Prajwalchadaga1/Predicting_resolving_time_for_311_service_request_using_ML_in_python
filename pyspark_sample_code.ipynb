{
 "cells": [
  {
   "cell_type": "code",
   "execution_count": 1,
   "metadata": {},
   "outputs": [],
   "source": [
    "import pyspark\n",
    "\n",
    "#Only use this if running local\n",
    "sc = pyspark.SparkContext('local[1]')\n",
    "from pyspark import SQLContext\n",
    "sqlContext = SQLContext(sc)"
   ]
  },
  {
   "cell_type": "code",
   "execution_count": 2,
   "metadata": {},
   "outputs": [],
   "source": [
    "#df = sc.textFile(\"/Users/pgarias/python_examples/311_Service_Requests_from_2015_to_Present_head_1000_pipe_sep.csv\").map(lambda line: line.split(\"|\"))\n",
    "#df = df.toDF()\n",
    "#df.show()"
   ]
  },
  {
   "cell_type": "code",
   "execution_count": 2,
   "metadata": {},
   "outputs": [],
   "source": [
    "df2 = sqlContext.read.format('csv') \\\n",
    ".options(header='true', inferschema='true', sep='|') \\\n",
    ".load('/Users/pgarias/python_examples/311_Service_Requests_from_2015_to_Present_head_1000_pipe_sep.csv')\n",
    "\n",
    "# Use this if running on EMR Notebook\n",
    "#df2 = spark.read.format('csv') \\\n",
    "#.options(header='true', inferschema='true', sep='|') \\\n",
    "#.load('s3://pgarias-bucket-cloud/311_Service_Requests_from_2015_to_Present_head_1000_pipe_sep.csv')"
   ]
  },
  {
   "cell_type": "code",
   "execution_count": 3,
   "metadata": {},
   "outputs": [
    {
     "name": "stdout",
     "output_type": "stream",
     "text": [
      "+----------------------+----------------------+\n",
      "|Created Date          |Closed Date           |\n",
      "+----------------------+----------------------+\n",
      "|01/01/2015 12:00:50 AM|01/01/2015 02:47:50 AM|\n",
      "|01/01/2015 12:01:29 AM|01/01/2015 02:42:22 AM|\n",
      "|01/01/2015 12:01:30 AM|01/01/2015 12:20:33 AM|\n",
      "|01/01/2015 12:04:28 AM|01/01/2015 02:25:02 AM|\n",
      "|01/01/2015 12:04:44 AM|01/01/2015 10:22:31 AM|\n",
      "|01/01/2015 12:04:51 AM|01/01/2015 01:03:07 AM|\n",
      "|01/01/2015 12:05:00 AM|01/01/2015 12:00:00 PM|\n",
      "|01/01/2015 12:05:05 AM|01/01/2015 01:22:10 AM|\n",
      "|01/01/2015 12:05:12 AM|01/01/2015 01:13:15 AM|\n",
      "|01/01/2015 12:06:02 AM|01/01/2015 12:43:41 AM|\n",
      "|01/01/2015 12:06:43 AM|01/01/2015 06:05:18 AM|\n",
      "|01/01/2015 12:07:42 AM|01/01/2015 12:16:24 AM|\n",
      "|01/01/2015 12:08:02 AM|01/01/2015 01:17:43 AM|\n",
      "|01/01/2015 12:08:34 AM|01/01/2015 02:42:23 AM|\n",
      "|01/01/2015 12:09:39 AM|01/01/2015 01:29:36 AM|\n",
      "|01/01/2015 12:09:40 AM|01/01/2015 07:38:38 AM|\n",
      "|01/01/2015 12:10:44 AM|01/01/2015 10:30:50 AM|\n",
      "|01/01/2015 12:11:14 AM|01/01/2015 05:02:42 AM|\n",
      "|01/01/2015 12:11:33 AM|01/01/2015 04:38:30 AM|\n",
      "|01/01/2015 12:12:47 AM|01/01/2015 02:58:37 AM|\n",
      "+----------------------+----------------------+\n",
      "only showing top 20 rows\n",
      "\n"
     ]
    }
   ],
   "source": [
    "#Select columns\n",
    "cols = ['Created Date','Closed Date']\n",
    "df2.select(cols).show(truncate=False)"
   ]
  },
  {
   "cell_type": "code",
   "execution_count": 19,
   "metadata": {},
   "outputs": [],
   "source": [
    "from pyspark.sql.functions import from_unixtime,unix_timestamp\n",
    "from pyspark.sql.types import DateType"
   ]
  },
  {
   "cell_type": "code",
   "execution_count": 20,
   "metadata": {},
   "outputs": [],
   "source": [
    "timeFmt = 'MM/dd/yyyy hh:mm:ss a'\n",
    "timeDiff = (unix_timestamp('Closed Date', format=timeFmt)\n",
    "            - unix_timestamp('Created Date', format=timeFmt))"
   ]
  },
  {
   "cell_type": "code",
   "execution_count": 21,
   "metadata": {},
   "outputs": [],
   "source": [
    "df3 = df2.withColumn(\"Duration\", timeDiff)"
   ]
  },
  {
   "cell_type": "code",
   "execution_count": 24,
   "metadata": {},
   "outputs": [
    {
     "name": "stdout",
     "output_type": "stream",
     "text": [
      "+----------------------+----------------------+--------+\n",
      "|Created Date          |Closed Date           |Duration|\n",
      "+----------------------+----------------------+--------+\n",
      "|01/01/2015 12:00:50 AM|01/01/2015 02:47:50 AM|10020   |\n",
      "|01/01/2015 12:01:29 AM|01/01/2015 02:42:22 AM|9653    |\n",
      "|01/01/2015 12:01:30 AM|01/01/2015 12:20:33 AM|1143    |\n",
      "|01/01/2015 12:04:28 AM|01/01/2015 02:25:02 AM|8434    |\n",
      "|01/01/2015 12:04:44 AM|01/01/2015 10:22:31 AM|37067   |\n",
      "|01/01/2015 12:04:51 AM|01/01/2015 01:03:07 AM|3496    |\n",
      "|01/01/2015 12:05:00 AM|01/01/2015 12:00:00 PM|42900   |\n",
      "|01/01/2015 12:05:05 AM|01/01/2015 01:22:10 AM|4625    |\n",
      "|01/01/2015 12:05:12 AM|01/01/2015 01:13:15 AM|4083    |\n",
      "|01/01/2015 12:06:02 AM|01/01/2015 12:43:41 AM|2259    |\n",
      "|01/01/2015 12:06:43 AM|01/01/2015 06:05:18 AM|21515   |\n",
      "|01/01/2015 12:07:42 AM|01/01/2015 12:16:24 AM|522     |\n",
      "|01/01/2015 12:08:02 AM|01/01/2015 01:17:43 AM|4181    |\n",
      "|01/01/2015 12:08:34 AM|01/01/2015 02:42:23 AM|9229    |\n",
      "|01/01/2015 12:09:39 AM|01/01/2015 01:29:36 AM|4797    |\n",
      "|01/01/2015 12:09:40 AM|01/01/2015 07:38:38 AM|26938   |\n",
      "|01/01/2015 12:10:44 AM|01/01/2015 10:30:50 AM|37206   |\n",
      "|01/01/2015 12:11:14 AM|01/01/2015 05:02:42 AM|17488   |\n",
      "|01/01/2015 12:11:33 AM|01/01/2015 04:38:30 AM|16017   |\n",
      "|01/01/2015 12:12:47 AM|01/01/2015 02:58:37 AM|9950    |\n",
      "+----------------------+----------------------+--------+\n",
      "only showing top 20 rows\n",
      "\n"
     ]
    }
   ],
   "source": [
    "df3.select(['Created Date','Closed Date','Duration']).show(truncate=False)"
   ]
  },
  {
   "cell_type": "code",
   "execution_count": 29,
   "metadata": {},
   "outputs": [
    {
     "name": "stdout",
     "output_type": "stream",
     "text": [
      "+--------+\n",
      "|Duration|\n",
      "+--------+\n",
      "|   10020|\n",
      "|    9653|\n",
      "|    1143|\n",
      "|    8434|\n",
      "|   37067|\n",
      "|    3496|\n",
      "|   42900|\n",
      "|    4625|\n",
      "|    4083|\n",
      "|    2259|\n",
      "|   21515|\n",
      "|     522|\n",
      "|    4181|\n",
      "|    9229|\n",
      "|    4797|\n",
      "|   26938|\n",
      "|   37206|\n",
      "|   17488|\n",
      "|   16017|\n",
      "|    9950|\n",
      "+--------+\n",
      "only showing top 20 rows\n",
      "\n"
     ]
    }
   ],
   "source": [
    "df3.select(\"Duration\").show()"
   ]
  },
  {
   "cell_type": "code",
   "execution_count": 57,
   "metadata": {},
   "outputs": [],
   "source": [
    "from pyspark.sql.functions import udf,col\n",
    "from pyspark.sql.types import FloatType, IntegerType"
   ]
  },
  {
   "cell_type": "code",
   "execution_count": 31,
   "metadata": {},
   "outputs": [],
   "source": [
    "def int_to_float(x):\n",
    "    return float(x)"
   ]
  },
  {
   "cell_type": "code",
   "execution_count": 33,
   "metadata": {},
   "outputs": [],
   "source": [
    "udfint_to_float = udf(int_to_float, IntegerType())"
   ]
  },
  {
   "cell_type": "code",
   "execution_count": 39,
   "metadata": {},
   "outputs": [],
   "source": [
    "df4 = df3.withColumn(\"Duration (float)\", udfint_to_float(\"Duration\"))"
   ]
  },
  {
   "cell_type": "code",
   "execution_count": 55,
   "metadata": {},
   "outputs": [
    {
     "data": {
      "text/plain": [
       "Column<CAST(Duration AS FLOAT) AS `Duration_float`>"
      ]
     },
     "execution_count": 55,
     "metadata": {},
     "output_type": "execute_result"
    }
   ],
   "source": [
    "df4['Duration'].cast('float').alias(\"Duration_float\")"
   ]
  },
  {
   "cell_type": "code",
   "execution_count": 58,
   "metadata": {},
   "outputs": [],
   "source": [
    "df = df4.select(col('Duration'), df4['Duration'].cast('float').alias('Duration_float'))"
   ]
  },
  {
   "cell_type": "code",
   "execution_count": 59,
   "metadata": {},
   "outputs": [
    {
     "name": "stdout",
     "output_type": "stream",
     "text": [
      "+--------+--------------+\n",
      "|Duration|Duration_float|\n",
      "+--------+--------------+\n",
      "|   10020|       10020.0|\n",
      "|    9653|        9653.0|\n",
      "|    1143|        1143.0|\n",
      "|    8434|        8434.0|\n",
      "|   37067|       37067.0|\n",
      "|    3496|        3496.0|\n",
      "|   42900|       42900.0|\n",
      "|    4625|        4625.0|\n",
      "|    4083|        4083.0|\n",
      "|    2259|        2259.0|\n",
      "|   21515|       21515.0|\n",
      "|     522|         522.0|\n",
      "|    4181|        4181.0|\n",
      "|    9229|        9229.0|\n",
      "|    4797|        4797.0|\n",
      "|   26938|       26938.0|\n",
      "|   37206|       37206.0|\n",
      "|   17488|       17488.0|\n",
      "|   16017|       16017.0|\n",
      "|    9950|        9950.0|\n",
      "+--------+--------------+\n",
      "only showing top 20 rows\n",
      "\n"
     ]
    }
   ],
   "source": [
    "df.show()"
   ]
  },
  {
   "cell_type": "code",
   "execution_count": 68,
   "metadata": {},
   "outputs": [],
   "source": [
    "list_collect = df.select(\"Duration_float\").describe().collect()"
   ]
  },
  {
   "cell_type": "code",
   "execution_count": 92,
   "metadata": {},
   "outputs": [],
   "source": [
    "\n",
    "def return_stats(list_item):\n",
    "    count = list_item[0]['Duration_float']\n",
    "    mean = list_item[1]['Duration_float']\n",
    "    stdev = list_item[2]['Duration_float']\n",
    "    min_v = list_item[3]['Duration_float']\n",
    "    max_v = list_item[4]['Duration_float']\n",
    "    return float(count),float(mean),float(stdev),float(min_v),float(max_v)\n",
    "    "
   ]
  },
  {
   "cell_type": "code",
   "execution_count": 86,
   "metadata": {},
   "outputs": [
    {
     "data": {
      "text/plain": [
       "[Row(summary=u'count', Duration_float=u'992'),\n",
       " Row(summary=u'mean', Duration_float=u'312167.0816532258'),\n",
       " Row(summary=u'stddev', Duration_float=u'3607608.0097006033'),\n",
       " Row(summary=u'min', Duration_float=u'0.0'),\n",
       " Row(summary=u'max', Duration_float=u'1.07628584E8')]"
      ]
     },
     "execution_count": 86,
     "metadata": {},
     "output_type": "execute_result"
    }
   ],
   "source": [
    "list_collect"
   ]
  },
  {
   "cell_type": "code",
   "execution_count": 93,
   "metadata": {},
   "outputs": [],
   "source": [
    "count,mean,stdev,min_val,max_val = return_stats(list_collect)"
   ]
  },
  {
   "cell_type": "code",
   "execution_count": 94,
   "metadata": {},
   "outputs": [
    {
     "data": {
      "text/plain": [
       "(992.0, 312167.0816532258, 3607608.0097006033, 0.0, 107628584.0)"
      ]
     },
     "execution_count": 94,
     "metadata": {},
     "output_type": "execute_result"
    }
   ],
   "source": [
    "count,mean,stdev,min_val,max_val"
   ]
  },
  {
   "cell_type": "code",
   "execution_count": 9,
   "metadata": {},
   "outputs": [
    {
     "name": "stdout",
     "output_type": "stream",
     "text": [
      "+-------+\n",
      "|summary|\n",
      "+-------+\n",
      "|  count|\n",
      "|   mean|\n",
      "| stddev|\n",
      "|    min|\n",
      "|    max|\n",
      "+-------+\n",
      "\n"
     ]
    }
   ],
   "source": [
    "df3.describe()\\\n",
    "    .select(\"summary\")\\\n",
    "    .show()"
   ]
  },
  {
   "cell_type": "code",
   "execution_count": 16,
   "metadata": {},
   "outputs": [],
   "source": [
    "all_cols = df3.columns"
   ]
  },
  {
   "cell_type": "code",
   "execution_count": 17,
   "metadata": {},
   "outputs": [
    {
     "data": {
      "text/plain": [
       "['Unique Key',\n",
       " 'Created Date',\n",
       " 'Closed Date',\n",
       " 'Agency',\n",
       " 'Agency Name',\n",
       " 'Complaint Type',\n",
       " 'Descriptor',\n",
       " 'Location Type',\n",
       " 'Incident Zip',\n",
       " 'Incident Address',\n",
       " 'Street Name',\n",
       " 'Cross Street 1',\n",
       " 'Cross Street 2',\n",
       " 'Intersection Street 1',\n",
       " 'Intersection Street 2',\n",
       " 'Address Type',\n",
       " 'City',\n",
       " 'Landmark',\n",
       " 'Facility Type',\n",
       " 'Status',\n",
       " 'Due Date',\n",
       " 'Resolution Description',\n",
       " 'Resolution Action Updated Date',\n",
       " 'Community Board',\n",
       " 'BBL',\n",
       " 'Borough',\n",
       " 'X Coordinate (State Plane)',\n",
       " 'Y Coordinate (State Plane)',\n",
       " 'Open Data Channel Type',\n",
       " 'Park Facility Name',\n",
       " 'Park Borough',\n",
       " 'Vehicle Type',\n",
       " 'Taxi Company Borough',\n",
       " 'Taxi Pick Up Location',\n",
       " 'Bridge Highway Name',\n",
       " 'Bridge Highway Direction',\n",
       " 'Road Ramp',\n",
       " 'Bridge Highway Segment',\n",
       " 'Latitude',\n",
       " 'Longitude',\n",
       " 'Location',\n",
       " 'Duration']"
      ]
     },
     "execution_count": 17,
     "metadata": {},
     "output_type": "execute_result"
    }
   ],
   "source": [
    "all_cols"
   ]
  },
  {
   "cell_type": "code",
   "execution_count": 18,
   "metadata": {},
   "outputs": [
    {
     "data": {
      "text/plain": [
       "['Unique Key',\n",
       " 'Created Date',\n",
       " 'Closed Date',\n",
       " 'Agency',\n",
       " 'Agency Name',\n",
       " 'Complaint Type',\n",
       " 'Descriptor',\n",
       " 'Location Type',\n",
       " 'Incident Zip',\n",
       " 'Incident Address',\n",
       " 'Street Name',\n",
       " 'Cross Street 1',\n",
       " 'Cross Street 2',\n",
       " 'Intersection Street 1',\n",
       " 'Intersection Street 2',\n",
       " 'Address Type',\n",
       " 'City',\n",
       " 'Landmark',\n",
       " 'Facility Type',\n",
       " 'Status',\n",
       " 'Due Date',\n",
       " 'Resolution Description',\n",
       " 'Resolution Action Updated Date',\n",
       " 'Community Board',\n",
       " 'BBL',\n",
       " 'Borough',\n",
       " 'X Coordinate (State Plane)',\n",
       " 'Y Coordinate (State Plane)',\n",
       " 'Open Data Channel Type',\n",
       " 'Park Facility Name',\n",
       " 'Park Borough',\n",
       " 'Vehicle Type',\n",
       " 'Taxi Company Borough',\n",
       " 'Taxi Pick Up Location',\n",
       " 'Bridge Highway Name',\n",
       " 'Bridge Highway Direction',\n",
       " 'Road Ramp',\n",
       " 'Bridge Highway Segment',\n",
       " 'Latitude',\n",
       " 'Longitude',\n",
       " 'Duration']"
      ]
     },
     "execution_count": 18,
     "metadata": {},
     "output_type": "execute_result"
    }
   ],
   "source": [
    "all_cols.remove('Location')\n",
    "all_cols"
   ]
  },
  {
   "cell_type": "code",
   "execution_count": null,
   "metadata": {},
   "outputs": [],
   "source": []
  },
  {
   "cell_type": "code",
   "execution_count": null,
   "metadata": {},
   "outputs": [],
   "source": []
  },
  {
   "cell_type": "code",
   "execution_count": null,
   "metadata": {},
   "outputs": [],
   "source": []
  },
  {
   "cell_type": "code",
   "execution_count": null,
   "metadata": {},
   "outputs": [],
   "source": []
  }
 ],
 "metadata": {
  "kernelspec": {
   "display_name": "Python 2",
   "language": "python",
   "name": "python2"
  },
  "language_info": {
   "codemirror_mode": {
    "name": "ipython",
    "version": 2
   },
   "file_extension": ".py",
   "mimetype": "text/x-python",
   "name": "python",
   "nbconvert_exporter": "python",
   "pygments_lexer": "ipython2",
   "version": "2.7.16"
  }
 },
 "nbformat": 4,
 "nbformat_minor": 2
}
